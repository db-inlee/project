{
 "cells": [
  {
   "cell_type": "code",
   "execution_count": 48,
   "id": "criminal-utility",
   "metadata": {
    "ExecuteTime": {
     "end_time": "2021-05-05T18:50:12.954623Z",
     "start_time": "2021-05-05T18:50:12.916308Z"
    }
   },
   "outputs": [],
   "source": [
    "import requests, bs4\n",
    "import pandas as pd\n",
    "from lxml import html\n",
    "from urllib.request import Request, urlopen\n",
    "from urllib.parse import urlencode, quote_plus, unquote\n",
    "from bs4 import BeautifulSoup\n",
    "from datetime import datetime, date, timedelta\n",
    "from urllib import parse\n",
    "import time\n",
    "from selenium import webdriver\n",
    "import pyautogui\n",
    "import time\n",
    "from os import listdir\n",
    "from os.path import isfile, join\n",
    "from tqdm import tqdm"
   ]
  },
  {
   "cell_type": "markdown",
   "id": "dimensional-graduate",
   "metadata": {},
   "source": [
    "#### 울산 동서발전 주소로 하루마다 크롤링"
   ]
  },
  {
   "cell_type": "code",
   "execution_count": 2,
   "id": "optimum-bosnia",
   "metadata": {
    "ExecuteTime": {
     "end_time": "2021-05-05T18:11:39.503199Z",
     "start_time": "2021-05-05T18:11:39.493199Z"
    }
   },
   "outputs": [],
   "source": [
    "url = \"https://astro.kasi.re.kr/life/pageView/10?useElevation=1&lat=35.572766506061576&lng=129.33345919720028&elevation=-110.51534578549804&output_range=1&date={}&hour=&minute=&second=&address=%EC%9A%B8%EC%82%B0%EA%B4%91%EC%97%AD%EC%8B%9C+%EC%A4%91%EA%B5%AC+%EC%A2%85%EA%B0%80%EB%A1%9C+545\""
   ]
  },
  {
   "cell_type": "code",
   "execution_count": 3,
   "id": "mechanical-butler",
   "metadata": {
    "ExecuteTime": {
     "end_time": "2021-05-05T18:11:46.837401Z",
     "start_time": "2021-05-05T18:11:46.819334Z"
    }
   },
   "outputs": [],
   "source": [
    "date_list = pd.date_range(start='20180301', end='20210201')"
   ]
  },
  {
   "cell_type": "code",
   "execution_count": 5,
   "id": "quick-palace",
   "metadata": {
    "ExecuteTime": {
     "end_time": "2021-05-05T18:11:57.257920Z",
     "start_time": "2021-05-05T18:11:57.241455Z"
    }
   },
   "outputs": [],
   "source": [
    "dt_list = date_list.strftime(\"%Y-%m-%d\").tolist()"
   ]
  },
  {
   "cell_type": "code",
   "execution_count": 41,
   "id": "hired-toolbox",
   "metadata": {
    "ExecuteTime": {
     "end_time": "2021-05-05T18:42:09.312475Z",
     "start_time": "2021-05-05T18:42:09.299472Z"
    }
   },
   "outputs": [],
   "source": [
    "def makedata(date):\n",
    "    urldate = url.format(date)\n",
    "    driver.get(urldate)\n",
    "    html = driver.page_source\n",
    "    soup = BeautifulSoup(html, 'html.parser')\n",
    "    contents=soup.select('div.table-responsive > table > tbody > tr')\n",
    "    columns=soup.select('div.table-responsive > table > thead > tr > th')\n",
    "    \n",
    "    columnlist=[]\n",
    "    dfcontent=[]\n",
    "    alldfcontents=[]\n",
    "\n",
    "    for content in contents:\n",
    "        tds=content.find_all(\"td\")\n",
    "        for td in tds:\n",
    "            dfcontent.append(td.text)\n",
    "        alldfcontents.append(dfcontent)\n",
    "        dfcontent=[]\n",
    "        \n",
    "    for column in columns:\n",
    "        columnlist.append(column.text)\n",
    "\n",
    "    df=pd.DataFrame(columns=columnlist, data = alldfcontents)\n",
    "    \n",
    "    df['날짜'] = date\n",
    "    \n",
    "    df = df[['날짜','시간(시)', '방위각(도 분 초)', '고도(도 분 초)', '적경(시 분 초)', '적위(도 분 초)']]\n",
    "    \n",
    "    return df\n",
    "    \n",
    "    \n",
    "    "
   ]
  },
  {
   "cell_type": "code",
   "execution_count": 42,
   "id": "american-running",
   "metadata": {
    "ExecuteTime": {
     "end_time": "2021-05-05T18:43:03.118503Z",
     "start_time": "2021-05-05T18:43:00.923087Z"
    },
    "scrolled": true
   },
   "outputs": [
    {
     "data": {
      "text/html": [
       "<div>\n",
       "<style scoped>\n",
       "    .dataframe tbody tr th:only-of-type {\n",
       "        vertical-align: middle;\n",
       "    }\n",
       "\n",
       "    .dataframe tbody tr th {\n",
       "        vertical-align: top;\n",
       "    }\n",
       "\n",
       "    .dataframe thead th {\n",
       "        text-align: right;\n",
       "    }\n",
       "</style>\n",
       "<table border=\"1\" class=\"dataframe\">\n",
       "  <thead>\n",
       "    <tr style=\"text-align: right;\">\n",
       "      <th></th>\n",
       "      <th>날짜</th>\n",
       "      <th>시간(시)</th>\n",
       "      <th>방위각(도 분 초)</th>\n",
       "      <th>고도(도 분 초)</th>\n",
       "      <th>적경(시 분 초)</th>\n",
       "      <th>적위(도 분 초)</th>\n",
       "    </tr>\n",
       "  </thead>\n",
       "  <tbody>\n",
       "    <tr>\n",
       "      <th>0</th>\n",
       "      <td>2018-03-01</td>\n",
       "      <td>00</td>\n",
       "      <td>341 44 10.55</td>\n",
       "      <td>-61 06 56.08</td>\n",
       "      <td>22 46 00.56</td>\n",
       "      <td>-7 49 53.62</td>\n",
       "    </tr>\n",
       "    <tr>\n",
       "      <th>1</th>\n",
       "      <td>2018-03-01</td>\n",
       "      <td>01</td>\n",
       "      <td>013 03 14.64</td>\n",
       "      <td>-61 39 59.25</td>\n",
       "      <td>22 46 10.07</td>\n",
       "      <td>-7 48 56.82</td>\n",
       "    </tr>\n",
       "    <tr>\n",
       "      <th>2</th>\n",
       "      <td>2018-03-01</td>\n",
       "      <td>02</td>\n",
       "      <td>040 01 16.71</td>\n",
       "      <td>-56 07 08.78</td>\n",
       "      <td>22 46 19.57</td>\n",
       "      <td>-7 48 00.06</td>\n",
       "    </tr>\n",
       "    <tr>\n",
       "      <th>3</th>\n",
       "      <td>2018-03-01</td>\n",
       "      <td>03</td>\n",
       "      <td>058 46 30.90</td>\n",
       "      <td>-46 48 04.78</td>\n",
       "      <td>22 46 29.07</td>\n",
       "      <td>-7 47 03.32</td>\n",
       "    </tr>\n",
       "    <tr>\n",
       "      <th>4</th>\n",
       "      <td>2018-03-01</td>\n",
       "      <td>04</td>\n",
       "      <td>071 59 25.33</td>\n",
       "      <td>-35 41 34.84</td>\n",
       "      <td>22 46 38.54</td>\n",
       "      <td>-7 46 06.62</td>\n",
       "    </tr>\n",
       "    <tr>\n",
       "      <th>5</th>\n",
       "      <td>2018-03-01</td>\n",
       "      <td>05</td>\n",
       "      <td>082 17 31.52</td>\n",
       "      <td>-23 47 44.61</td>\n",
       "      <td>22 46 47.99</td>\n",
       "      <td>-7 45 09.93</td>\n",
       "    </tr>\n",
       "    <tr>\n",
       "      <th>6</th>\n",
       "      <td>2018-03-01</td>\n",
       "      <td>06</td>\n",
       "      <td>091 15 30.49</td>\n",
       "      <td>-11 36 55.70</td>\n",
       "      <td>22 46 57.40</td>\n",
       "      <td>-7 44 13.25</td>\n",
       "    </tr>\n",
       "    <tr>\n",
       "      <th>7</th>\n",
       "      <td>2018-03-01</td>\n",
       "      <td>07</td>\n",
       "      <td>099 53 25.52</td>\n",
       "      <td>00 31 36.75</td>\n",
       "      <td>22 47 06.78</td>\n",
       "      <td>-7 43 16.56</td>\n",
       "    </tr>\n",
       "    <tr>\n",
       "      <th>8</th>\n",
       "      <td>2018-03-01</td>\n",
       "      <td>08</td>\n",
       "      <td>108 58 56.24</td>\n",
       "      <td>12 20 41.71</td>\n",
       "      <td>22 47 16.13</td>\n",
       "      <td>-7 42 19.86</td>\n",
       "    </tr>\n",
       "    <tr>\n",
       "      <th>9</th>\n",
       "      <td>2018-03-01</td>\n",
       "      <td>09</td>\n",
       "      <td>119 20 59.61</td>\n",
       "      <td>23 29 08.94</td>\n",
       "      <td>22 47 25.44</td>\n",
       "      <td>-7 41 23.12</td>\n",
       "    </tr>\n",
       "    <tr>\n",
       "      <th>10</th>\n",
       "      <td>2018-03-01</td>\n",
       "      <td>10</td>\n",
       "      <td>131 57 53.12</td>\n",
       "      <td>33 25 16.00</td>\n",
       "      <td>22 47 34.73</td>\n",
       "      <td>-7 40 26.35</td>\n",
       "    </tr>\n",
       "    <tr>\n",
       "      <th>11</th>\n",
       "      <td>2018-03-01</td>\n",
       "      <td>11</td>\n",
       "      <td>147 52 11.16</td>\n",
       "      <td>41 19 00.55</td>\n",
       "      <td>22 47 44.00</td>\n",
       "      <td>-7 39 29.52</td>\n",
       "    </tr>\n",
       "    <tr>\n",
       "      <th>12</th>\n",
       "      <td>2018-03-01</td>\n",
       "      <td>12</td>\n",
       "      <td>167 26 24.93</td>\n",
       "      <td>46 00 08.95</td>\n",
       "      <td>22 47 53.25</td>\n",
       "      <td>-7 38 32.65</td>\n",
       "    </tr>\n",
       "    <tr>\n",
       "      <th>13</th>\n",
       "      <td>2018-03-01</td>\n",
       "      <td>13</td>\n",
       "      <td>188 58 56.87</td>\n",
       "      <td>46 24 10.16</td>\n",
       "      <td>22 48 02.50</td>\n",
       "      <td>-7 37 35.71</td>\n",
       "    </tr>\n",
       "    <tr>\n",
       "      <th>14</th>\n",
       "      <td>2018-03-01</td>\n",
       "      <td>14</td>\n",
       "      <td>209 05 51.29</td>\n",
       "      <td>42 24 29.20</td>\n",
       "      <td>22 48 11.75</td>\n",
       "      <td>-7 36 38.72</td>\n",
       "    </tr>\n",
       "    <tr>\n",
       "      <th>15</th>\n",
       "      <td>2018-03-01</td>\n",
       "      <td>15</td>\n",
       "      <td>225 39 49.43</td>\n",
       "      <td>34 59 09.39</td>\n",
       "      <td>22 48 21.01</td>\n",
       "      <td>-7 35 41.67</td>\n",
       "    </tr>\n",
       "    <tr>\n",
       "      <th>16</th>\n",
       "      <td>2018-03-01</td>\n",
       "      <td>16</td>\n",
       "      <td>238 47 35.71</td>\n",
       "      <td>25 20 28.10</td>\n",
       "      <td>22 48 30.29</td>\n",
       "      <td>-7 34 44.58</td>\n",
       "    </tr>\n",
       "    <tr>\n",
       "      <th>17</th>\n",
       "      <td>2018-03-01</td>\n",
       "      <td>17</td>\n",
       "      <td>249 29 37.09</td>\n",
       "      <td>14 22 19.94</td>\n",
       "      <td>22 48 39.59</td>\n",
       "      <td>-7 33 47.45</td>\n",
       "    </tr>\n",
       "    <tr>\n",
       "      <th>18</th>\n",
       "      <td>2018-03-01</td>\n",
       "      <td>18</td>\n",
       "      <td>258 46 03.28</td>\n",
       "      <td>02 39 09.40</td>\n",
       "      <td>22 48 48.92</td>\n",
       "      <td>-7 32 50.28</td>\n",
       "    </tr>\n",
       "    <tr>\n",
       "      <th>19</th>\n",
       "      <td>2018-03-01</td>\n",
       "      <td>19</td>\n",
       "      <td>267 27 13.87</td>\n",
       "      <td>-9 26 28.48</td>\n",
       "      <td>22 48 58.29</td>\n",
       "      <td>-7 31 53.10</td>\n",
       "    </tr>\n",
       "    <tr>\n",
       "      <th>20</th>\n",
       "      <td>2018-03-01</td>\n",
       "      <td>20</td>\n",
       "      <td>276 20 24.79</td>\n",
       "      <td>-21 36 57.04</td>\n",
       "      <td>22 49 07.69</td>\n",
       "      <td>-7 30 55.92</td>\n",
       "    </tr>\n",
       "    <tr>\n",
       "      <th>21</th>\n",
       "      <td>2018-03-01</td>\n",
       "      <td>21</td>\n",
       "      <td>286 22 26.30</td>\n",
       "      <td>-33 33 37.42</td>\n",
       "      <td>22 49 17.11</td>\n",
       "      <td>-7 29 58.74</td>\n",
       "    </tr>\n",
       "    <tr>\n",
       "      <th>22</th>\n",
       "      <td>2018-03-01</td>\n",
       "      <td>22</td>\n",
       "      <td>298 59 50.01</td>\n",
       "      <td>-44 48 34.88</td>\n",
       "      <td>22 49 26.57</td>\n",
       "      <td>-7 29 01.58</td>\n",
       "    </tr>\n",
       "    <tr>\n",
       "      <th>23</th>\n",
       "      <td>2018-03-01</td>\n",
       "      <td>23</td>\n",
       "      <td>316 36 26.01</td>\n",
       "      <td>-54 28 17.87</td>\n",
       "      <td>22 49 36.04</td>\n",
       "      <td>-7 28 04.44</td>\n",
       "    </tr>\n",
       "  </tbody>\n",
       "</table>\n",
       "</div>"
      ],
      "text/plain": [
       "            날짜 시간(시)    방위각(도 분 초)     고도(도 분 초)    적경(시 분 초)    적위(도 분 초)\n",
       "0   2018-03-01    00  341 44 10.55  -61 06 56.08  22 46 00.56  -7 49 53.62\n",
       "1   2018-03-01    01  013 03 14.64  -61 39 59.25  22 46 10.07  -7 48 56.82\n",
       "2   2018-03-01    02  040 01 16.71  -56 07 08.78  22 46 19.57  -7 48 00.06\n",
       "3   2018-03-01    03  058 46 30.90  -46 48 04.78  22 46 29.07  -7 47 03.32\n",
       "4   2018-03-01    04  071 59 25.33  -35 41 34.84  22 46 38.54  -7 46 06.62\n",
       "5   2018-03-01    05  082 17 31.52  -23 47 44.61  22 46 47.99  -7 45 09.93\n",
       "6   2018-03-01    06  091 15 30.49  -11 36 55.70  22 46 57.40  -7 44 13.25\n",
       "7   2018-03-01    07  099 53 25.52   00 31 36.75  22 47 06.78  -7 43 16.56\n",
       "8   2018-03-01    08  108 58 56.24   12 20 41.71  22 47 16.13  -7 42 19.86\n",
       "9   2018-03-01    09  119 20 59.61   23 29 08.94  22 47 25.44  -7 41 23.12\n",
       "10  2018-03-01    10  131 57 53.12   33 25 16.00  22 47 34.73  -7 40 26.35\n",
       "11  2018-03-01    11  147 52 11.16   41 19 00.55  22 47 44.00  -7 39 29.52\n",
       "12  2018-03-01    12  167 26 24.93   46 00 08.95  22 47 53.25  -7 38 32.65\n",
       "13  2018-03-01    13  188 58 56.87   46 24 10.16  22 48 02.50  -7 37 35.71\n",
       "14  2018-03-01    14  209 05 51.29   42 24 29.20  22 48 11.75  -7 36 38.72\n",
       "15  2018-03-01    15  225 39 49.43   34 59 09.39  22 48 21.01  -7 35 41.67\n",
       "16  2018-03-01    16  238 47 35.71   25 20 28.10  22 48 30.29  -7 34 44.58\n",
       "17  2018-03-01    17  249 29 37.09   14 22 19.94  22 48 39.59  -7 33 47.45\n",
       "18  2018-03-01    18  258 46 03.28   02 39 09.40  22 48 48.92  -7 32 50.28\n",
       "19  2018-03-01    19  267 27 13.87   -9 26 28.48  22 48 58.29  -7 31 53.10\n",
       "20  2018-03-01    20  276 20 24.79  -21 36 57.04  22 49 07.69  -7 30 55.92\n",
       "21  2018-03-01    21  286 22 26.30  -33 33 37.42  22 49 17.11  -7 29 58.74\n",
       "22  2018-03-01    22  298 59 50.01  -44 48 34.88  22 49 26.57  -7 29 01.58\n",
       "23  2018-03-01    23  316 36 26.01  -54 28 17.87  22 49 36.04  -7 28 04.44"
      ]
     },
     "execution_count": 42,
     "metadata": {},
     "output_type": "execute_result"
    }
   ],
   "source": [
    "driver = webdriver.Chrome('../../crawling/chromedriver.exe')\n",
    "\n",
    "makedata(dt_list[0])"
   ]
  },
  {
   "cell_type": "code",
   "execution_count": 43,
   "id": "extra-massachusetts",
   "metadata": {
    "ExecuteTime": {
     "end_time": "2021-05-05T18:44:23.278672Z",
     "start_time": "2021-05-05T18:44:23.270161Z"
    }
   },
   "outputs": [],
   "source": [
    "dt_list_small = dt_list[0\n",
    "                       :2]"
   ]
  },
  {
   "cell_type": "code",
   "execution_count": 44,
   "id": "running-sheep",
   "metadata": {
    "ExecuteTime": {
     "end_time": "2021-05-05T18:44:27.499682Z",
     "start_time": "2021-05-05T18:44:27.489149Z"
    }
   },
   "outputs": [
    {
     "data": {
      "text/plain": [
       "['2018-03-01', '2018-03-02']"
      ]
     },
     "execution_count": 44,
     "metadata": {},
     "output_type": "execute_result"
    }
   ],
   "source": [
    "dt_list_small"
   ]
  },
  {
   "cell_type": "code",
   "execution_count": 45,
   "id": "altered-constraint",
   "metadata": {
    "ExecuteTime": {
     "end_time": "2021-05-05T18:45:52.112849Z",
     "start_time": "2021-05-05T18:45:52.103777Z"
    }
   },
   "outputs": [],
   "source": [
    "total = pd.DataFrame(columns=['날짜','시간(시)', '방위각(도 분 초)', '고도(도 분 초)', '적경(시 분 초)', '적위(도 분 초)'])"
   ]
  },
  {
   "cell_type": "code",
   "execution_count": 49,
   "id": "crazy-mitchell",
   "metadata": {
    "ExecuteTime": {
     "end_time": "2021-05-05T18:56:57.581231Z",
     "start_time": "2021-05-05T18:51:41.456875Z"
    }
   },
   "outputs": [
    {
     "name": "stderr",
     "output_type": "stream",
     "text": [
      "100%|██████████████████████████████████████████████████████████████████████████████| 1069/1069 [05:16<00:00,  3.38it/s]\n"
     ]
    }
   ],
   "source": [
    "for i in tqdm(dt_list):\n",
    "    \n",
    "    total = pd.concat([total, makedata(i)], ignore_index=True)\n",
    "    "
   ]
  },
  {
   "cell_type": "code",
   "execution_count": 52,
   "id": "extraordinary-straight",
   "metadata": {
    "ExecuteTime": {
     "end_time": "2021-05-05T18:57:32.964049Z",
     "start_time": "2021-05-05T18:57:32.938060Z"
    }
   },
   "outputs": [
    {
     "data": {
      "text/plain": [
       "날짜            0\n",
       "시간(시)         0\n",
       "방위각(도 분 초)    0\n",
       "고도(도 분 초)     0\n",
       "적경(시 분 초)     0\n",
       "적위(도 분 초)     0\n",
       "dtype: int64"
      ]
     },
     "execution_count": 52,
     "metadata": {},
     "output_type": "execute_result"
    }
   ],
   "source": [
    "total.isna().sum()"
   ]
  },
  {
   "cell_type": "code",
   "execution_count": 53,
   "id": "nearby-helping",
   "metadata": {
    "ExecuteTime": {
     "end_time": "2021-05-05T18:58:16.774857Z",
     "start_time": "2021-05-05T18:58:16.680836Z"
    }
   },
   "outputs": [],
   "source": [
    "total.to_csv('울산_태양고도.csv')"
   ]
  },
  {
   "cell_type": "markdown",
   "id": "affiliated-novel",
   "metadata": {},
   "source": [
    "#### 당진 위경도로 크롤링"
   ]
  },
  {
   "cell_type": "code",
   "execution_count": 56,
   "id": "needed-advocate",
   "metadata": {
    "ExecuteTime": {
     "end_time": "2021-05-05T19:02:09.072883Z",
     "start_time": "2021-05-05T19:02:09.064760Z"
    }
   },
   "outputs": [],
   "source": [
    "url1 = 'https://astro.kasi.re.kr/life/pageView/10?useElevation=1&lat=37.05127236188373&lng=126.51409076261092&elevation=-111.31808208562506&output_range=1&date={}&hour=&minute=&second=&address=%EC%B6%A9%EC%B2%AD%EB%82%A8%EB%8F%84+%EB%8B%B9%EC%A7%84%EC%8B%9C+%EC%84%9D%EB%AC%B8%EB%A9%B4+%EA%B5%90%EB%A1%9C%EA%B8%B8+30'"
   ]
  },
  {
   "cell_type": "code",
   "execution_count": 57,
   "id": "incredible-underground",
   "metadata": {
    "ExecuteTime": {
     "end_time": "2021-05-05T19:02:52.536358Z",
     "start_time": "2021-05-05T19:02:52.524355Z"
    }
   },
   "outputs": [],
   "source": [
    "def makedata_dangjin(date):\n",
    "    urldate = url1.format(date)\n",
    "    driver.get(urldate)\n",
    "    html = driver.page_source\n",
    "    soup = BeautifulSoup(html, 'html.parser')\n",
    "    contents=soup.select('div.table-responsive > table > tbody > tr')\n",
    "    columns=soup.select('div.table-responsive > table > thead > tr > th')\n",
    "    \n",
    "    columnlist=[]\n",
    "    dfcontent=[]\n",
    "    alldfcontents=[]\n",
    "\n",
    "    for content in contents:\n",
    "        tds=content.find_all(\"td\")\n",
    "        for td in tds:\n",
    "            dfcontent.append(td.text)\n",
    "        alldfcontents.append(dfcontent)\n",
    "        dfcontent=[]\n",
    "        \n",
    "    for column in columns:\n",
    "        columnlist.append(column.text)\n",
    "\n",
    "    df=pd.DataFrame(columns=columnlist, data = alldfcontents)\n",
    "    \n",
    "    df['날짜'] = date\n",
    "    \n",
    "    df = df[['날짜','시간(시)', '방위각(도 분 초)', '고도(도 분 초)', '적경(시 분 초)', '적위(도 분 초)']]\n",
    "    \n",
    "    return df\n",
    "    \n",
    "    \n",
    "    "
   ]
  },
  {
   "cell_type": "code",
   "execution_count": 58,
   "id": "multiple-edinburgh",
   "metadata": {
    "ExecuteTime": {
     "end_time": "2021-05-05T19:03:12.802550Z",
     "start_time": "2021-05-05T19:03:12.798063Z"
    }
   },
   "outputs": [],
   "source": [
    "total1 = pd.DataFrame(columns=['날짜','시간(시)', '방위각(도 분 초)', '고도(도 분 초)', '적경(시 분 초)', '적위(도 분 초)'])"
   ]
  },
  {
   "cell_type": "code",
   "execution_count": 60,
   "id": "saved-federal",
   "metadata": {
    "ExecuteTime": {
     "end_time": "2021-05-05T19:10:17.724086Z",
     "start_time": "2021-05-05T19:04:04.796762Z"
    }
   },
   "outputs": [
    {
     "name": "stderr",
     "output_type": "stream",
     "text": [
      "100%|██████████████████████████████████████████████████████████████████████████████| 1069/1069 [06:12<00:00,  2.87it/s]\n"
     ]
    }
   ],
   "source": [
    "for i in tqdm(dt_list):\n",
    "    \n",
    "    total1 = pd.concat([total1, makedata_dangjin(i)], ignore_index=True)\n",
    "    "
   ]
  },
  {
   "cell_type": "code",
   "execution_count": 62,
   "id": "prostate-norfolk",
   "metadata": {
    "ExecuteTime": {
     "end_time": "2021-05-05T19:10:56.603640Z",
     "start_time": "2021-05-05T19:10:56.506088Z"
    }
   },
   "outputs": [],
   "source": [
    "total1.to_csv('당진_태양고도.csv')"
   ]
  },
  {
   "cell_type": "code",
   "execution_count": 64,
   "id": "applied-milan",
   "metadata": {
    "ExecuteTime": {
     "end_time": "2021-05-05T19:12:14.030177Z",
     "start_time": "2021-05-05T19:12:14.008151Z"
    }
   },
   "outputs": [
    {
     "data": {
      "text/html": [
       "<div>\n",
       "<style scoped>\n",
       "    .dataframe tbody tr th:only-of-type {\n",
       "        vertical-align: middle;\n",
       "    }\n",
       "\n",
       "    .dataframe tbody tr th {\n",
       "        vertical-align: top;\n",
       "    }\n",
       "\n",
       "    .dataframe thead th {\n",
       "        text-align: right;\n",
       "    }\n",
       "</style>\n",
       "<table border=\"1\" class=\"dataframe\">\n",
       "  <thead>\n",
       "    <tr style=\"text-align: right;\">\n",
       "      <th></th>\n",
       "      <th>날짜</th>\n",
       "      <th>시간(시)</th>\n",
       "      <th>방위각(도 분 초)</th>\n",
       "      <th>고도(도 분 초)</th>\n",
       "      <th>적경(시 분 초)</th>\n",
       "      <th>적위(도 분 초)</th>\n",
       "    </tr>\n",
       "  </thead>\n",
       "  <tbody>\n",
       "    <tr>\n",
       "      <th>0</th>\n",
       "      <td>2018-03-01</td>\n",
       "      <td>00</td>\n",
       "      <td>341 44 10.55</td>\n",
       "      <td>-61 06 56.08</td>\n",
       "      <td>22 46 00.56</td>\n",
       "      <td>-7 49 53.62</td>\n",
       "    </tr>\n",
       "    <tr>\n",
       "      <th>1</th>\n",
       "      <td>2018-03-01</td>\n",
       "      <td>01</td>\n",
       "      <td>013 03 14.64</td>\n",
       "      <td>-61 39 59.25</td>\n",
       "      <td>22 46 10.07</td>\n",
       "      <td>-7 48 56.82</td>\n",
       "    </tr>\n",
       "    <tr>\n",
       "      <th>2</th>\n",
       "      <td>2018-03-01</td>\n",
       "      <td>02</td>\n",
       "      <td>040 01 16.71</td>\n",
       "      <td>-56 07 08.78</td>\n",
       "      <td>22 46 19.57</td>\n",
       "      <td>-7 48 00.06</td>\n",
       "    </tr>\n",
       "    <tr>\n",
       "      <th>3</th>\n",
       "      <td>2018-03-01</td>\n",
       "      <td>03</td>\n",
       "      <td>058 46 30.90</td>\n",
       "      <td>-46 48 04.78</td>\n",
       "      <td>22 46 29.07</td>\n",
       "      <td>-7 47 03.32</td>\n",
       "    </tr>\n",
       "    <tr>\n",
       "      <th>4</th>\n",
       "      <td>2018-03-01</td>\n",
       "      <td>04</td>\n",
       "      <td>071 59 25.33</td>\n",
       "      <td>-35 41 34.84</td>\n",
       "      <td>22 46 38.54</td>\n",
       "      <td>-7 46 06.62</td>\n",
       "    </tr>\n",
       "    <tr>\n",
       "      <th>...</th>\n",
       "      <td>...</td>\n",
       "      <td>...</td>\n",
       "      <td>...</td>\n",
       "      <td>...</td>\n",
       "      <td>...</td>\n",
       "      <td>...</td>\n",
       "    </tr>\n",
       "    <tr>\n",
       "      <th>27499</th>\n",
       "      <td>2021-02-01</td>\n",
       "      <td>19</td>\n",
       "      <td>258 04 25.97</td>\n",
       "      <td>-12 33 51.12</td>\n",
       "      <td>21 00 53.49</td>\n",
       "      <td>-16 58 50.11</td>\n",
       "    </tr>\n",
       "    <tr>\n",
       "      <th>27500</th>\n",
       "      <td>2021-02-01</td>\n",
       "      <td>20</td>\n",
       "      <td>266 37 12.36</td>\n",
       "      <td>-24 24 34.58</td>\n",
       "      <td>21 01 03.69</td>\n",
       "      <td>-16 58 06.72</td>\n",
       "    </tr>\n",
       "    <tr>\n",
       "      <th>27501</th>\n",
       "      <td>2021-02-01</td>\n",
       "      <td>21</td>\n",
       "      <td>275 51 13.10</td>\n",
       "      <td>-36 21 28.44</td>\n",
       "      <td>21 01 13.92</td>\n",
       "      <td>-16 57 23.34</td>\n",
       "    </tr>\n",
       "    <tr>\n",
       "      <th>27502</th>\n",
       "      <td>2021-02-01</td>\n",
       "      <td>22</td>\n",
       "      <td>287 06 13.44</td>\n",
       "      <td>-48 04 23.44</td>\n",
       "      <td>21 01 24.18</td>\n",
       "      <td>-16 56 39.98</td>\n",
       "    </tr>\n",
       "    <tr>\n",
       "      <th>27503</th>\n",
       "      <td>2021-02-01</td>\n",
       "      <td>23</td>\n",
       "      <td>303 04 07.46</td>\n",
       "      <td>-58 55 17.13</td>\n",
       "      <td>21 01 34.46</td>\n",
       "      <td>-16 55 56.68</td>\n",
       "    </tr>\n",
       "  </tbody>\n",
       "</table>\n",
       "<p>27504 rows × 6 columns</p>\n",
       "</div>"
      ],
      "text/plain": [
       "               날짜 시간(시)    방위각(도 분 초)     고도(도 분 초)    적경(시 분 초)     적위(도 분 초)\n",
       "0      2018-03-01    00  341 44 10.55  -61 06 56.08  22 46 00.56   -7 49 53.62\n",
       "1      2018-03-01    01  013 03 14.64  -61 39 59.25  22 46 10.07   -7 48 56.82\n",
       "2      2018-03-01    02  040 01 16.71  -56 07 08.78  22 46 19.57   -7 48 00.06\n",
       "3      2018-03-01    03  058 46 30.90  -46 48 04.78  22 46 29.07   -7 47 03.32\n",
       "4      2018-03-01    04  071 59 25.33  -35 41 34.84  22 46 38.54   -7 46 06.62\n",
       "...           ...   ...           ...           ...          ...           ...\n",
       "27499  2021-02-01    19  258 04 25.97  -12 33 51.12  21 00 53.49  -16 58 50.11\n",
       "27500  2021-02-01    20  266 37 12.36  -24 24 34.58  21 01 03.69  -16 58 06.72\n",
       "27501  2021-02-01    21  275 51 13.10  -36 21 28.44  21 01 13.92  -16 57 23.34\n",
       "27502  2021-02-01    22  287 06 13.44  -48 04 23.44  21 01 24.18  -16 56 39.98\n",
       "27503  2021-02-01    23  303 04 07.46  -58 55 17.13  21 01 34.46  -16 55 56.68\n",
       "\n",
       "[27504 rows x 6 columns]"
      ]
     },
     "execution_count": 64,
     "metadata": {},
     "output_type": "execute_result"
    }
   ],
   "source": [
    "total1"
   ]
  },
  {
   "cell_type": "code",
   "execution_count": null,
   "id": "demanding-acting",
   "metadata": {},
   "outputs": [],
   "source": []
  },
  {
   "cell_type": "markdown",
   "id": "handed-cedar",
   "metadata": {},
   "source": [
    "#### 도분초를 도로 변환하는 방법\n",
    "\n",
    "35도 44분 7.22초를 변환하자\n",
    "\n",
    "1. 정수자리는 그냥 도를 그대로 가져온다. 35도\n",
    "\n",
    "2. 소수자리는 다음과 같이 계산한다. (분/60)+(초/3600)"
   ]
  },
  {
   "cell_type": "code",
   "execution_count": 110,
   "id": "exceptional-eligibility",
   "metadata": {
    "ExecuteTime": {
     "end_time": "2021-05-05T19:41:30.785208Z",
     "start_time": "2021-05-05T19:41:30.769200Z"
    }
   },
   "outputs": [],
   "source": [
    "def convertDMS_to_degree(x):\n",
    "    \n",
    "    do = x.split(' ')[0]\n",
    "    min = x.split(' ')[1]\n",
    "    sec = x.split(' ')[2]\n",
    "    \n",
    "    degree = float(do) + (float(min)/60) + (float(sec)/3600)\n",
    "    \n",
    "    return degree"
   ]
  },
  {
   "cell_type": "code",
   "execution_count": 82,
   "id": "employed-builder",
   "metadata": {
    "ExecuteTime": {
     "end_time": "2021-05-05T19:24:04.514798Z",
     "start_time": "2021-05-05T19:24:04.505252Z"
    }
   },
   "outputs": [],
   "source": [
    "t = total1['방위각(도 분 초)'][0]"
   ]
  },
  {
   "cell_type": "code",
   "execution_count": 97,
   "id": "sufficient-photographer",
   "metadata": {
    "ExecuteTime": {
     "end_time": "2021-05-05T19:29:18.287504Z",
     "start_time": "2021-05-05T19:29:18.274964Z"
    }
   },
   "outputs": [
    {
     "data": {
      "text/plain": [
       "'341 44 10.55'"
      ]
     },
     "execution_count": 97,
     "metadata": {},
     "output_type": "execute_result"
    }
   ],
   "source": [
    "t"
   ]
  },
  {
   "cell_type": "code",
   "execution_count": 89,
   "id": "genetic-label",
   "metadata": {
    "ExecuteTime": {
     "end_time": "2021-05-05T19:26:13.566007Z",
     "start_time": "2021-05-05T19:26:13.555017Z"
    }
   },
   "outputs": [
    {
     "data": {
      "text/plain": [
       "44"
      ]
     },
     "execution_count": 89,
     "metadata": {},
     "output_type": "execute_result"
    }
   ],
   "source": [
    "int(t.split(' ')[1])"
   ]
  },
  {
   "cell_type": "code",
   "execution_count": 111,
   "id": "north-steam",
   "metadata": {
    "ExecuteTime": {
     "end_time": "2021-05-05T19:41:35.746312Z",
     "start_time": "2021-05-05T19:41:35.727301Z"
    }
   },
   "outputs": [
    {
     "data": {
      "text/plain": [
       "341.7362638888889"
      ]
     },
     "execution_count": 111,
     "metadata": {},
     "output_type": "execute_result"
    }
   ],
   "source": [
    "convertDMS_to_degree(t)"
   ]
  },
  {
   "cell_type": "code",
   "execution_count": 109,
   "id": "caroline-hawaiian",
   "metadata": {
    "ExecuteTime": {
     "end_time": "2021-05-05T19:41:22.893427Z",
     "start_time": "2021-05-05T19:41:22.890425Z"
    }
   },
   "outputs": [],
   "source": [
    "df_ex = total1"
   ]
  },
  {
   "cell_type": "code",
   "execution_count": 103,
   "id": "stock-hopkins",
   "metadata": {
    "ExecuteTime": {
     "end_time": "2021-05-05T19:39:26.798485Z",
     "start_time": "2021-05-05T19:39:26.746746Z"
    }
   },
   "outputs": [],
   "source": [
    "df_ex['방위각'] = df_ex['방위각(도 분 초)'].apply(lambda x: convertDMS_to_degree(x))"
   ]
  },
  {
   "cell_type": "code",
   "execution_count": 104,
   "id": "acquired-trustee",
   "metadata": {
    "ExecuteTime": {
     "end_time": "2021-05-05T19:39:31.261185Z",
     "start_time": "2021-05-05T19:39:31.231096Z"
    }
   },
   "outputs": [
    {
     "data": {
      "text/html": [
       "<div>\n",
       "<style scoped>\n",
       "    .dataframe tbody tr th:only-of-type {\n",
       "        vertical-align: middle;\n",
       "    }\n",
       "\n",
       "    .dataframe tbody tr th {\n",
       "        vertical-align: top;\n",
       "    }\n",
       "\n",
       "    .dataframe thead th {\n",
       "        text-align: right;\n",
       "    }\n",
       "</style>\n",
       "<table border=\"1\" class=\"dataframe\">\n",
       "  <thead>\n",
       "    <tr style=\"text-align: right;\">\n",
       "      <th></th>\n",
       "      <th>날짜</th>\n",
       "      <th>시간(시)</th>\n",
       "      <th>방위각(도 분 초)</th>\n",
       "      <th>고도(도 분 초)</th>\n",
       "      <th>적경(시 분 초)</th>\n",
       "      <th>적위(도 분 초)</th>\n",
       "      <th>방위각</th>\n",
       "    </tr>\n",
       "  </thead>\n",
       "  <tbody>\n",
       "    <tr>\n",
       "      <th>0</th>\n",
       "      <td>2018-03-01</td>\n",
       "      <td>00</td>\n",
       "      <td>341 44 10.55</td>\n",
       "      <td>-61 06 56.08</td>\n",
       "      <td>22 46 00.56</td>\n",
       "      <td>-7 49 53.62</td>\n",
       "      <td>341.736264</td>\n",
       "    </tr>\n",
       "    <tr>\n",
       "      <th>1</th>\n",
       "      <td>2018-03-01</td>\n",
       "      <td>01</td>\n",
       "      <td>013 03 14.64</td>\n",
       "      <td>-61 39 59.25</td>\n",
       "      <td>22 46 10.07</td>\n",
       "      <td>-7 48 56.82</td>\n",
       "      <td>13.054067</td>\n",
       "    </tr>\n",
       "    <tr>\n",
       "      <th>2</th>\n",
       "      <td>2018-03-01</td>\n",
       "      <td>02</td>\n",
       "      <td>040 01 16.71</td>\n",
       "      <td>-56 07 08.78</td>\n",
       "      <td>22 46 19.57</td>\n",
       "      <td>-7 48 00.06</td>\n",
       "      <td>40.021308</td>\n",
       "    </tr>\n",
       "    <tr>\n",
       "      <th>3</th>\n",
       "      <td>2018-03-01</td>\n",
       "      <td>03</td>\n",
       "      <td>058 46 30.90</td>\n",
       "      <td>-46 48 04.78</td>\n",
       "      <td>22 46 29.07</td>\n",
       "      <td>-7 47 03.32</td>\n",
       "      <td>58.775250</td>\n",
       "    </tr>\n",
       "    <tr>\n",
       "      <th>4</th>\n",
       "      <td>2018-03-01</td>\n",
       "      <td>04</td>\n",
       "      <td>071 59 25.33</td>\n",
       "      <td>-35 41 34.84</td>\n",
       "      <td>22 46 38.54</td>\n",
       "      <td>-7 46 06.62</td>\n",
       "      <td>71.990369</td>\n",
       "    </tr>\n",
       "    <tr>\n",
       "      <th>...</th>\n",
       "      <td>...</td>\n",
       "      <td>...</td>\n",
       "      <td>...</td>\n",
       "      <td>...</td>\n",
       "      <td>...</td>\n",
       "      <td>...</td>\n",
       "      <td>...</td>\n",
       "    </tr>\n",
       "    <tr>\n",
       "      <th>27499</th>\n",
       "      <td>2021-02-01</td>\n",
       "      <td>19</td>\n",
       "      <td>258 04 25.97</td>\n",
       "      <td>-12 33 51.12</td>\n",
       "      <td>21 00 53.49</td>\n",
       "      <td>-16 58 50.11</td>\n",
       "      <td>258.073881</td>\n",
       "    </tr>\n",
       "    <tr>\n",
       "      <th>27500</th>\n",
       "      <td>2021-02-01</td>\n",
       "      <td>20</td>\n",
       "      <td>266 37 12.36</td>\n",
       "      <td>-24 24 34.58</td>\n",
       "      <td>21 01 03.69</td>\n",
       "      <td>-16 58 06.72</td>\n",
       "      <td>266.620100</td>\n",
       "    </tr>\n",
       "    <tr>\n",
       "      <th>27501</th>\n",
       "      <td>2021-02-01</td>\n",
       "      <td>21</td>\n",
       "      <td>275 51 13.10</td>\n",
       "      <td>-36 21 28.44</td>\n",
       "      <td>21 01 13.92</td>\n",
       "      <td>-16 57 23.34</td>\n",
       "      <td>275.853639</td>\n",
       "    </tr>\n",
       "    <tr>\n",
       "      <th>27502</th>\n",
       "      <td>2021-02-01</td>\n",
       "      <td>22</td>\n",
       "      <td>287 06 13.44</td>\n",
       "      <td>-48 04 23.44</td>\n",
       "      <td>21 01 24.18</td>\n",
       "      <td>-16 56 39.98</td>\n",
       "      <td>287.103733</td>\n",
       "    </tr>\n",
       "    <tr>\n",
       "      <th>27503</th>\n",
       "      <td>2021-02-01</td>\n",
       "      <td>23</td>\n",
       "      <td>303 04 07.46</td>\n",
       "      <td>-58 55 17.13</td>\n",
       "      <td>21 01 34.46</td>\n",
       "      <td>-16 55 56.68</td>\n",
       "      <td>303.068739</td>\n",
       "    </tr>\n",
       "  </tbody>\n",
       "</table>\n",
       "<p>27504 rows × 7 columns</p>\n",
       "</div>"
      ],
      "text/plain": [
       "               날짜 시간(시)    방위각(도 분 초)     고도(도 분 초)    적경(시 분 초)  \\\n",
       "0      2018-03-01    00  341 44 10.55  -61 06 56.08  22 46 00.56   \n",
       "1      2018-03-01    01  013 03 14.64  -61 39 59.25  22 46 10.07   \n",
       "2      2018-03-01    02  040 01 16.71  -56 07 08.78  22 46 19.57   \n",
       "3      2018-03-01    03  058 46 30.90  -46 48 04.78  22 46 29.07   \n",
       "4      2018-03-01    04  071 59 25.33  -35 41 34.84  22 46 38.54   \n",
       "...           ...   ...           ...           ...          ...   \n",
       "27499  2021-02-01    19  258 04 25.97  -12 33 51.12  21 00 53.49   \n",
       "27500  2021-02-01    20  266 37 12.36  -24 24 34.58  21 01 03.69   \n",
       "27501  2021-02-01    21  275 51 13.10  -36 21 28.44  21 01 13.92   \n",
       "27502  2021-02-01    22  287 06 13.44  -48 04 23.44  21 01 24.18   \n",
       "27503  2021-02-01    23  303 04 07.46  -58 55 17.13  21 01 34.46   \n",
       "\n",
       "          적위(도 분 초)         방위각  \n",
       "0       -7 49 53.62  341.736264  \n",
       "1       -7 48 56.82   13.054067  \n",
       "2       -7 48 00.06   40.021308  \n",
       "3       -7 47 03.32   58.775250  \n",
       "4       -7 46 06.62   71.990369  \n",
       "...             ...         ...  \n",
       "27499  -16 58 50.11  258.073881  \n",
       "27500  -16 58 06.72  266.620100  \n",
       "27501  -16 57 23.34  275.853639  \n",
       "27502  -16 56 39.98  287.103733  \n",
       "27503  -16 55 56.68  303.068739  \n",
       "\n",
       "[27504 rows x 7 columns]"
      ]
     },
     "execution_count": 104,
     "metadata": {},
     "output_type": "execute_result"
    }
   ],
   "source": [
    "df_ex"
   ]
  },
  {
   "cell_type": "code",
   "execution_count": null,
   "id": "cleared-yahoo",
   "metadata": {},
   "outputs": [],
   "source": []
  }
 ],
 "metadata": {
  "kernelspec": {
   "display_name": "Python 3",
   "language": "python",
   "name": "python3"
  },
  "language_info": {
   "codemirror_mode": {
    "name": "ipython",
    "version": 3
   },
   "file_extension": ".py",
   "mimetype": "text/x-python",
   "name": "python",
   "nbconvert_exporter": "python",
   "pygments_lexer": "ipython3",
   "version": "3.8.5"
  },
  "toc": {
   "base_numbering": 1,
   "nav_menu": {},
   "number_sections": true,
   "sideBar": true,
   "skip_h1_title": false,
   "title_cell": "Table of Contents",
   "title_sidebar": "Contents",
   "toc_cell": false,
   "toc_position": {},
   "toc_section_display": true,
   "toc_window_display": false
  }
 },
 "nbformat": 4,
 "nbformat_minor": 5
}
